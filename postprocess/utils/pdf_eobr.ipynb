{
 "cells": [
  {
   "cell_type": "code",
   "execution_count": 2,
   "metadata": {},
   "outputs": [
    {
     "name": "stdout",
     "output_type": "stream",
     "text": [
      "Starting PDF conversion process...\n",
      "Found 89 DOCX files without corresponding PDFs.\n",
      "\n",
      "Processing: EOBR_20231214375-1.docx\n"
     ]
    },
    {
     "data": {
      "application/vnd.jupyter.widget-view+json": {
       "model_id": "74a5e17072a64d2d91e47e13a8111837",
       "version_major": 2,
       "version_minor": 0
      },
      "text/plain": [
       "  0%|          | 0/1 [00:00<?, ?it/s]"
      ]
     },
     "metadata": {},
     "output_type": "display_data"
    },
    {
     "name": "stdout",
     "output_type": "stream",
     "text": [
      "Successfully converted: EOBR_20231214375-1.docx\n",
      "\n",
      "Processing: EOBR_2024102076101-1.docx\n"
     ]
    },
    {
     "data": {
      "application/vnd.jupyter.widget-view+json": {
       "model_id": "bba5736746524437806f47d469099787",
       "version_major": 2,
       "version_minor": 0
      },
      "text/plain": [
       "  0%|          | 0/1 [00:00<?, ?it/s]"
      ]
     },
     "metadata": {},
     "output_type": "display_data"
    },
    {
     "name": "stdout",
     "output_type": "stream",
     "text": [
      "Successfully converted: EOBR_2024102076101-1.docx\n",
      "\n",
      "Processing: EOBR_2024102085201-1.docx\n"
     ]
    },
    {
     "data": {
      "application/vnd.jupyter.widget-view+json": {
       "model_id": "06aac24dcfe74bbfb7cfbcc593d100d0",
       "version_major": 2,
       "version_minor": 0
      },
      "text/plain": [
       "  0%|          | 0/1 [00:00<?, ?it/s]"
      ]
     },
     "metadata": {},
     "output_type": "display_data"
    },
    {
     "name": "stdout",
     "output_type": "stream",
     "text": [
      "Successfully converted: EOBR_2024102085201-1.docx\n",
      "\n",
      "Processing: EOBR_2024102102001-1.docx\n"
     ]
    },
    {
     "data": {
      "application/vnd.jupyter.widget-view+json": {
       "model_id": "9b207b4c8eb84b3892ea84e26ac419f1",
       "version_major": 2,
       "version_minor": 0
      },
      "text/plain": [
       "  0%|          | 0/1 [00:00<?, ?it/s]"
      ]
     },
     "metadata": {},
     "output_type": "display_data"
    },
    {
     "name": "stdout",
     "output_type": "stream",
     "text": [
      "Attempt 1 failed for EOBR_2024102102001-1.docx. Error: (-2147418111, 'Call was rejected by callee.', None, None)\n",
      "Retrying in 2 seconds...\n"
     ]
    },
    {
     "data": {
      "application/vnd.jupyter.widget-view+json": {
       "model_id": "f1218d09059447409bc5a7de9093c03b",
       "version_major": 2,
       "version_minor": 0
      },
      "text/plain": [
       "  0%|          | 0/1 [00:00<?, ?it/s]"
      ]
     },
     "metadata": {},
     "output_type": "display_data"
    },
    {
     "name": "stdout",
     "output_type": "stream",
     "text": [
      "Successfully converted: EOBR_2024102102001-1.docx\n",
      "\n",
      "Processing: EOBR_2024102106301-1.docx\n"
     ]
    },
    {
     "data": {
      "application/vnd.jupyter.widget-view+json": {
       "model_id": "b7140887d1c84430a9e901840930961a",
       "version_major": 2,
       "version_minor": 0
      },
      "text/plain": [
       "  0%|          | 0/1 [00:00<?, ?it/s]"
      ]
     },
     "metadata": {},
     "output_type": "display_data"
    },
    {
     "name": "stdout",
     "output_type": "stream",
     "text": [
      "Successfully converted: EOBR_2024102106301-1.docx\n",
      "\n",
      "Processing: EOBR_2024102106501-1.docx\n"
     ]
    },
    {
     "data": {
      "application/vnd.jupyter.widget-view+json": {
       "model_id": "5c80061dfae049b09444cf6e8e0ac49a",
       "version_major": 2,
       "version_minor": 0
      },
      "text/plain": [
       "  0%|          | 0/1 [00:00<?, ?it/s]"
      ]
     },
     "metadata": {},
     "output_type": "display_data"
    },
    {
     "name": "stdout",
     "output_type": "stream",
     "text": [
      "Successfully converted: EOBR_2024102106501-1.docx\n",
      "\n",
      "Processing: EOBR_2024112128601-1.docx\n"
     ]
    },
    {
     "data": {
      "application/vnd.jupyter.widget-view+json": {
       "model_id": "74193438ba0f4f22ac325dbe3245682d",
       "version_major": 2,
       "version_minor": 0
      },
      "text/plain": [
       "  0%|          | 0/1 [00:00<?, ?it/s]"
      ]
     },
     "metadata": {},
     "output_type": "display_data"
    },
    {
     "name": "stdout",
     "output_type": "stream",
     "text": [
      "Attempt 1 failed for EOBR_2024112128601-1.docx. Error: (-2147418111, 'Call was rejected by callee.', None, None)\n",
      "Retrying in 2 seconds...\n"
     ]
    },
    {
     "data": {
      "application/vnd.jupyter.widget-view+json": {
       "model_id": "44deb64ab4f24e7696fe71d91597c05c",
       "version_major": 2,
       "version_minor": 0
      },
      "text/plain": [
       "  0%|          | 0/1 [00:00<?, ?it/s]"
      ]
     },
     "metadata": {},
     "output_type": "display_data"
    },
    {
     "name": "stdout",
     "output_type": "stream",
     "text": [
      "Successfully converted: EOBR_2024112128601-1.docx\n",
      "\n",
      "Processing: EOBR_2024112137001-1.docx\n"
     ]
    },
    {
     "data": {
      "application/vnd.jupyter.widget-view+json": {
       "model_id": "e7ae4c5e86b94069b63fe0abf2003597",
       "version_major": 2,
       "version_minor": 0
      },
      "text/plain": [
       "  0%|          | 0/1 [00:00<?, ?it/s]"
      ]
     },
     "metadata": {},
     "output_type": "display_data"
    },
    {
     "name": "stdout",
     "output_type": "stream",
     "text": [
      "Successfully converted: EOBR_2024112137001-1.docx\n",
      "\n",
      "Processing: EOBR_20241121407-1.docx\n"
     ]
    },
    {
     "data": {
      "application/vnd.jupyter.widget-view+json": {
       "model_id": "7a011254b39f4e4e8c1f7d64d2889037",
       "version_major": 2,
       "version_minor": 0
      },
      "text/plain": [
       "  0%|          | 0/1 [00:00<?, ?it/s]"
      ]
     },
     "metadata": {},
     "output_type": "display_data"
    },
    {
     "name": "stdout",
     "output_type": "stream",
     "text": [
      "Successfully converted: EOBR_20241121407-1.docx\n",
      "\n",
      "Processing: EOBR_20241121521-2.docx\n"
     ]
    },
    {
     "data": {
      "application/vnd.jupyter.widget-view+json": {
       "model_id": "84032a2194e74a3db53e51bde17af098",
       "version_major": 2,
       "version_minor": 0
      },
      "text/plain": [
       "  0%|          | 0/1 [00:00<?, ?it/s]"
      ]
     },
     "metadata": {},
     "output_type": "display_data"
    },
    {
     "name": "stdout",
     "output_type": "stream",
     "text": [
      "Attempt 1 failed for EOBR_20241121521-2.docx. Error: (-2147418111, 'Call was rejected by callee.', None, None)\n",
      "Retrying in 2 seconds...\n"
     ]
    },
    {
     "data": {
      "application/vnd.jupyter.widget-view+json": {
       "model_id": "7f0340d06e7b4e748882e86214788815",
       "version_major": 2,
       "version_minor": 0
      },
      "text/plain": [
       "  0%|          | 0/1 [00:00<?, ?it/s]"
      ]
     },
     "metadata": {},
     "output_type": "display_data"
    },
    {
     "name": "stdout",
     "output_type": "stream",
     "text": [
      "Successfully converted: EOBR_20241121521-2.docx\n",
      "\n",
      "Processing: EOBR_2024112159001-1.docx\n"
     ]
    },
    {
     "data": {
      "application/vnd.jupyter.widget-view+json": {
       "model_id": "a6e765a0504440c69513151cfe78522f",
       "version_major": 2,
       "version_minor": 0
      },
      "text/plain": [
       "  0%|          | 0/1 [00:00<?, ?it/s]"
      ]
     },
     "metadata": {},
     "output_type": "display_data"
    },
    {
     "name": "stdout",
     "output_type": "stream",
     "text": [
      "Successfully converted: EOBR_2024112159001-1.docx\n",
      "\n",
      "Processing: EOBR_2024112170501-1.docx\n"
     ]
    },
    {
     "data": {
      "application/vnd.jupyter.widget-view+json": {
       "model_id": "4e8a5e7f9ddd49d59a6298d6b7d3af83",
       "version_major": 2,
       "version_minor": 0
      },
      "text/plain": [
       "  0%|          | 0/1 [00:00<?, ?it/s]"
      ]
     },
     "metadata": {},
     "output_type": "display_data"
    },
    {
     "name": "stdout",
     "output_type": "stream",
     "text": [
      "Successfully converted: EOBR_2024112170501-1.docx\n",
      "\n",
      "Processing: EOBR_2024112174001-2.docx\n"
     ]
    },
    {
     "data": {
      "application/vnd.jupyter.widget-view+json": {
       "model_id": "5bd40d69dad64f6c83642237a6f675c7",
       "version_major": 2,
       "version_minor": 0
      },
      "text/plain": [
       "  0%|          | 0/1 [00:00<?, ?it/s]"
      ]
     },
     "metadata": {},
     "output_type": "display_data"
    },
    {
     "name": "stdout",
     "output_type": "stream",
     "text": [
      "Successfully converted: EOBR_2024112174001-2.docx\n",
      "\n",
      "Processing: EOBR_2024112184301-1.docx\n"
     ]
    },
    {
     "data": {
      "application/vnd.jupyter.widget-view+json": {
       "model_id": "f9dc857cfdc7409bb94df01a4b72297c",
       "version_major": 2,
       "version_minor": 0
      },
      "text/plain": [
       "  0%|          | 0/1 [00:00<?, ?it/s]"
      ]
     },
     "metadata": {},
     "output_type": "display_data"
    },
    {
     "name": "stdout",
     "output_type": "stream",
     "text": [
      "Successfully converted: EOBR_2024112184301-1.docx\n",
      "\n",
      "Processing: EOBR_2024112185601-2.docx\n"
     ]
    },
    {
     "data": {
      "application/vnd.jupyter.widget-view+json": {
       "model_id": "d4c0bbd536344cab8ea5b22eaf253823",
       "version_major": 2,
       "version_minor": 0
      },
      "text/plain": [
       "  0%|          | 0/1 [00:00<?, ?it/s]"
      ]
     },
     "metadata": {},
     "output_type": "display_data"
    },
    {
     "name": "stdout",
     "output_type": "stream",
     "text": [
      "Attempt 1 failed for EOBR_2024112185601-2.docx. Error: (-2147418111, 'Call was rejected by callee.', None, None)\n",
      "Retrying in 2 seconds...\n"
     ]
    },
    {
     "data": {
      "application/vnd.jupyter.widget-view+json": {
       "model_id": "dd7cf5215e2747458a0d9746899336bf",
       "version_major": 2,
       "version_minor": 0
      },
      "text/plain": [
       "  0%|          | 0/1 [00:00<?, ?it/s]"
      ]
     },
     "metadata": {},
     "output_type": "display_data"
    },
    {
     "name": "stdout",
     "output_type": "stream",
     "text": [
      "Successfully converted: EOBR_2024112185601-2.docx\n",
      "\n",
      "Processing: EOBR_2024114844-1.docx\n"
     ]
    },
    {
     "data": {
      "application/vnd.jupyter.widget-view+json": {
       "model_id": "4a5512631b9e479ebaeddb8856fbe60c",
       "version_major": 2,
       "version_minor": 0
      },
      "text/plain": [
       "  0%|          | 0/1 [00:00<?, ?it/s]"
      ]
     },
     "metadata": {},
     "output_type": "display_data"
    },
    {
     "name": "stdout",
     "output_type": "stream",
     "text": [
      "Successfully converted: EOBR_2024114844-1.docx\n",
      "\n",
      "Processing: EOBR_2024122193501-1.docx\n"
     ]
    },
    {
     "data": {
      "application/vnd.jupyter.widget-view+json": {
       "model_id": "3f4867bd06904b55995b49fe6ac18cc4",
       "version_major": 2,
       "version_minor": 0
      },
      "text/plain": [
       "  0%|          | 0/1 [00:00<?, ?it/s]"
      ]
     },
     "metadata": {},
     "output_type": "display_data"
    },
    {
     "name": "stdout",
     "output_type": "stream",
     "text": [
      "Attempt 1 failed for EOBR_2024122193501-1.docx. Error: (-2147418111, 'Call was rejected by callee.', None, None)\n",
      "Retrying in 2 seconds...\n"
     ]
    },
    {
     "data": {
      "application/vnd.jupyter.widget-view+json": {
       "model_id": "dde3bcf75f9b4761a8b694fdc3af4f9e",
       "version_major": 2,
       "version_minor": 0
      },
      "text/plain": [
       "  0%|          | 0/1 [00:00<?, ?it/s]"
      ]
     },
     "metadata": {},
     "output_type": "display_data"
    },
    {
     "name": "stdout",
     "output_type": "stream",
     "text": [
      "Successfully converted: EOBR_2024122193501-1.docx\n",
      "\n",
      "Processing: EOBR_2024122196901-1.docx\n"
     ]
    },
    {
     "data": {
      "application/vnd.jupyter.widget-view+json": {
       "model_id": "678f936321544dbc9c82a0240b3b4ae6",
       "version_major": 2,
       "version_minor": 0
      },
      "text/plain": [
       "  0%|          | 0/1 [00:00<?, ?it/s]"
      ]
     },
     "metadata": {},
     "output_type": "display_data"
    },
    {
     "name": "stdout",
     "output_type": "stream",
     "text": [
      "Attempt 1 failed for EOBR_2024122196901-1.docx. Error: (-2147418111, 'Call was rejected by callee.', None, None)\n",
      "Retrying in 2 seconds...\n"
     ]
    },
    {
     "data": {
      "application/vnd.jupyter.widget-view+json": {
       "model_id": "dc67f04e3c044210a99aaf8471f8532f",
       "version_major": 2,
       "version_minor": 0
      },
      "text/plain": [
       "  0%|          | 0/1 [00:00<?, ?it/s]"
      ]
     },
     "metadata": {},
     "output_type": "display_data"
    },
    {
     "name": "stdout",
     "output_type": "stream",
     "text": [
      "Successfully converted: EOBR_2024122196901-1.docx\n",
      "\n",
      "Processing: EOBR_2024122198001-1.docx\n"
     ]
    },
    {
     "data": {
      "application/vnd.jupyter.widget-view+json": {
       "model_id": "1af7ab583e10421e83751f1fc43a5bf0",
       "version_major": 2,
       "version_minor": 0
      },
      "text/plain": [
       "  0%|          | 0/1 [00:00<?, ?it/s]"
      ]
     },
     "metadata": {},
     "output_type": "display_data"
    },
    {
     "name": "stdout",
     "output_type": "stream",
     "text": [
      "Successfully converted: EOBR_2024122198001-1.docx\n",
      "\n",
      "Processing: EOBR_2024122213601-1.docx\n"
     ]
    },
    {
     "data": {
      "application/vnd.jupyter.widget-view+json": {
       "model_id": "0a63c3d5998c4be99bb62ac78f9d86b9",
       "version_major": 2,
       "version_minor": 0
      },
      "text/plain": [
       "  0%|          | 0/1 [00:00<?, ?it/s]"
      ]
     },
     "metadata": {},
     "output_type": "display_data"
    },
    {
     "name": "stdout",
     "output_type": "stream",
     "text": [
      "Attempt 1 failed for EOBR_2024122213601-1.docx. Error: (-2147418111, 'Call was rejected by callee.', None, None)\n",
      "Retrying in 2 seconds...\n"
     ]
    },
    {
     "data": {
      "application/vnd.jupyter.widget-view+json": {
       "model_id": "8bbb900336d34f7b8bca899edf4e1885",
       "version_major": 2,
       "version_minor": 0
      },
      "text/plain": [
       "  0%|          | 0/1 [00:00<?, ?it/s]"
      ]
     },
     "metadata": {},
     "output_type": "display_data"
    },
    {
     "name": "stdout",
     "output_type": "stream",
     "text": [
      "Successfully converted: EOBR_2024122213601-1.docx\n",
      "\n",
      "Processing: EOBR_2024122221401-1.docx\n"
     ]
    },
    {
     "data": {
      "application/vnd.jupyter.widget-view+json": {
       "model_id": "64a4ec91a6eb4d55ac61d843440b3ea6",
       "version_major": 2,
       "version_minor": 0
      },
      "text/plain": [
       "  0%|          | 0/1 [00:00<?, ?it/s]"
      ]
     },
     "metadata": {},
     "output_type": "display_data"
    },
    {
     "name": "stdout",
     "output_type": "stream",
     "text": [
      "Successfully converted: EOBR_2024122221401-1.docx\n",
      "\n",
      "Processing: EOBR_2024122225301-1.docx\n"
     ]
    },
    {
     "data": {
      "application/vnd.jupyter.widget-view+json": {
       "model_id": "dd55745ecd674208a398ba2a3df41c8f",
       "version_major": 2,
       "version_minor": 0
      },
      "text/plain": [
       "  0%|          | 0/1 [00:00<?, ?it/s]"
      ]
     },
     "metadata": {},
     "output_type": "display_data"
    },
    {
     "name": "stdout",
     "output_type": "stream",
     "text": [
      "Attempt 1 failed for EOBR_2024122225301-1.docx. Error: (-2147418111, 'Call was rejected by callee.', None, None)\n",
      "Retrying in 2 seconds...\n"
     ]
    },
    {
     "data": {
      "application/vnd.jupyter.widget-view+json": {
       "model_id": "53a568a2463340f28c03175d85e8023c",
       "version_major": 2,
       "version_minor": 0
      },
      "text/plain": [
       "  0%|          | 0/1 [00:00<?, ?it/s]"
      ]
     },
     "metadata": {},
     "output_type": "display_data"
    },
    {
     "name": "stdout",
     "output_type": "stream",
     "text": [
      "Successfully converted: EOBR_2024122225301-1.docx\n",
      "\n",
      "Processing: EOBR_2024122227001-1.docx\n"
     ]
    },
    {
     "data": {
      "application/vnd.jupyter.widget-view+json": {
       "model_id": "358241b805584c7faf04ed4e0338c1d5",
       "version_major": 2,
       "version_minor": 0
      },
      "text/plain": [
       "  0%|          | 0/1 [00:00<?, ?it/s]"
      ]
     },
     "metadata": {},
     "output_type": "display_data"
    },
    {
     "name": "stdout",
     "output_type": "stream",
     "text": [
      "Successfully converted: EOBR_2024122227001-1.docx\n",
      "\n",
      "Processing: EOBR_2024122229101-1.docx\n"
     ]
    },
    {
     "data": {
      "application/vnd.jupyter.widget-view+json": {
       "model_id": "62e7db4e04b64731ace94251def9607f",
       "version_major": 2,
       "version_minor": 0
      },
      "text/plain": [
       "  0%|          | 0/1 [00:00<?, ?it/s]"
      ]
     },
     "metadata": {},
     "output_type": "display_data"
    },
    {
     "name": "stdout",
     "output_type": "stream",
     "text": [
      "Successfully converted: EOBR_2024122229101-1.docx\n",
      "\n",
      "Processing: EOBR_2024122238701-1.docx\n"
     ]
    },
    {
     "data": {
      "application/vnd.jupyter.widget-view+json": {
       "model_id": "c592a75ec17247e7a084a7a12a778fd9",
       "version_major": 2,
       "version_minor": 0
      },
      "text/plain": [
       "  0%|          | 0/1 [00:00<?, ?it/s]"
      ]
     },
     "metadata": {},
     "output_type": "display_data"
    },
    {
     "name": "stdout",
     "output_type": "stream",
     "text": [
      "Successfully converted: EOBR_2024122238701-1.docx\n",
      "\n",
      "Processing: EOBR_2024122239401-1.docx\n"
     ]
    },
    {
     "data": {
      "application/vnd.jupyter.widget-view+json": {
       "model_id": "47379e4ba96e420f908770d1e504c882",
       "version_major": 2,
       "version_minor": 0
      },
      "text/plain": [
       "  0%|          | 0/1 [00:00<?, ?it/s]"
      ]
     },
     "metadata": {},
     "output_type": "display_data"
    },
    {
     "name": "stdout",
     "output_type": "stream",
     "text": [
      "Attempt 1 failed for EOBR_2024122239401-1.docx. Error: (-2147418111, 'Call was rejected by callee.', None, None)\n",
      "Retrying in 2 seconds...\n"
     ]
    },
    {
     "data": {
      "application/vnd.jupyter.widget-view+json": {
       "model_id": "5e49f5b6846d487f9020f1cbd89e8e23",
       "version_major": 2,
       "version_minor": 0
      },
      "text/plain": [
       "  0%|          | 0/1 [00:00<?, ?it/s]"
      ]
     },
     "metadata": {},
     "output_type": "display_data"
    },
    {
     "name": "stdout",
     "output_type": "stream",
     "text": [
      "Successfully converted: EOBR_2024122239401-1.docx\n",
      "\n",
      "Processing: EOBR_2024215671-1.docx\n"
     ]
    },
    {
     "data": {
      "application/vnd.jupyter.widget-view+json": {
       "model_id": "9cb92e5902954d1ea5fcf75f3fd35ebb",
       "version_major": 2,
       "version_minor": 0
      },
      "text/plain": [
       "  0%|          | 0/1 [00:00<?, ?it/s]"
      ]
     },
     "metadata": {},
     "output_type": "display_data"
    },
    {
     "name": "stdout",
     "output_type": "stream",
     "text": [
      "Attempt 1 failed for EOBR_2024215671-1.docx. Error: (-2147418111, 'Call was rejected by callee.', None, None)\n",
      "Retrying in 2 seconds...\n"
     ]
    },
    {
     "data": {
      "application/vnd.jupyter.widget-view+json": {
       "model_id": "63764ea014ba43a3818b6f8cf076527f",
       "version_major": 2,
       "version_minor": 0
      },
      "text/plain": [
       "  0%|          | 0/1 [00:00<?, ?it/s]"
      ]
     },
     "metadata": {},
     "output_type": "display_data"
    },
    {
     "name": "stdout",
     "output_type": "stream",
     "text": [
      "Successfully converted: EOBR_2024215671-1.docx\n",
      "\n",
      "Processing: EOBR_202421580002-1.docx\n"
     ]
    },
    {
     "data": {
      "application/vnd.jupyter.widget-view+json": {
       "model_id": "c3ca59c2f10c4cea99b26a041a3a448d",
       "version_major": 2,
       "version_minor": 0
      },
      "text/plain": [
       "  0%|          | 0/1 [00:00<?, ?it/s]"
      ]
     },
     "metadata": {},
     "output_type": "display_data"
    },
    {
     "name": "stdout",
     "output_type": "stream",
     "text": [
      "Successfully converted: EOBR_202421580002-1.docx\n",
      "\n",
      "Processing: EOBR_2024315953-1.docx\n"
     ]
    },
    {
     "data": {
      "application/vnd.jupyter.widget-view+json": {
       "model_id": "ac50a7dee1ba40cc909173525ed2a3f1",
       "version_major": 2,
       "version_minor": 0
      },
      "text/plain": [
       "  0%|          | 0/1 [00:00<?, ?it/s]"
      ]
     },
     "metadata": {},
     "output_type": "display_data"
    },
    {
     "name": "stdout",
     "output_type": "stream",
     "text": [
      "Attempt 1 failed for EOBR_2024315953-1.docx. Error: (-2147418111, 'Call was rejected by callee.', None, None)\n",
      "Retrying in 2 seconds...\n"
     ]
    },
    {
     "data": {
      "application/vnd.jupyter.widget-view+json": {
       "model_id": "39eab7504e944885b4ab0d17b07c18af",
       "version_major": 2,
       "version_minor": 0
      },
      "text/plain": [
       "  0%|          | 0/1 [00:00<?, ?it/s]"
      ]
     },
     "metadata": {},
     "output_type": "display_data"
    },
    {
     "name": "stdout",
     "output_type": "stream",
     "text": [
      "Successfully converted: EOBR_2024315953-1.docx\n",
      "\n",
      "Processing: EOBR_2024416613-1.docx\n"
     ]
    },
    {
     "data": {
      "application/vnd.jupyter.widget-view+json": {
       "model_id": "d960f43c284747cfb0307ce9e25ce9ce",
       "version_major": 2,
       "version_minor": 0
      },
      "text/plain": [
       "  0%|          | 0/1 [00:00<?, ?it/s]"
      ]
     },
     "metadata": {},
     "output_type": "display_data"
    },
    {
     "name": "stdout",
     "output_type": "stream",
     "text": [
      "Attempt 1 failed for EOBR_2024416613-1.docx. Error: (-2147418111, 'Call was rejected by callee.', None, None)\n",
      "Retrying in 2 seconds...\n"
     ]
    },
    {
     "data": {
      "application/vnd.jupyter.widget-view+json": {
       "model_id": "f2d43d592f79442baa1d9b3fd645804d",
       "version_major": 2,
       "version_minor": 0
      },
      "text/plain": [
       "  0%|          | 0/1 [00:00<?, ?it/s]"
      ]
     },
     "metadata": {},
     "output_type": "display_data"
    },
    {
     "name": "stdout",
     "output_type": "stream",
     "text": [
      "Successfully converted: EOBR_2024416613-1.docx\n",
      "\n",
      "Processing: EOBR_2024417231-1.docx\n"
     ]
    },
    {
     "data": {
      "application/vnd.jupyter.widget-view+json": {
       "model_id": "6e57ca73d8ad490086180bfa74dec9c5",
       "version_major": 2,
       "version_minor": 0
      },
      "text/plain": [
       "  0%|          | 0/1 [00:00<?, ?it/s]"
      ]
     },
     "metadata": {},
     "output_type": "display_data"
    },
    {
     "name": "stdout",
     "output_type": "stream",
     "text": [
      "Attempt 1 failed for EOBR_2024417231-1.docx. Error: (-2147418111, 'Call was rejected by callee.', None, None)\n",
      "Retrying in 2 seconds...\n"
     ]
    },
    {
     "data": {
      "application/vnd.jupyter.widget-view+json": {
       "model_id": "da5d29e6f55b490c844e0f8ad4606b19",
       "version_major": 2,
       "version_minor": 0
      },
      "text/plain": [
       "  0%|          | 0/1 [00:00<?, ?it/s]"
      ]
     },
     "metadata": {},
     "output_type": "display_data"
    },
    {
     "name": "stdout",
     "output_type": "stream",
     "text": [
      "Successfully converted: EOBR_2024417231-1.docx\n",
      "\n",
      "Processing: EOBR_202451766101-1.docx\n"
     ]
    },
    {
     "data": {
      "application/vnd.jupyter.widget-view+json": {
       "model_id": "ba4a9478fc6b45dead829023552b54ed",
       "version_major": 2,
       "version_minor": 0
      },
      "text/plain": [
       "  0%|          | 0/1 [00:00<?, ?it/s]"
      ]
     },
     "metadata": {},
     "output_type": "display_data"
    },
    {
     "name": "stdout",
     "output_type": "stream",
     "text": [
      "Attempt 1 failed for EOBR_202451766101-1.docx. Error: (-2147418111, 'Call was rejected by callee.', None, None)\n",
      "Retrying in 2 seconds...\n"
     ]
    },
    {
     "data": {
      "application/vnd.jupyter.widget-view+json": {
       "model_id": "18091aaefe964f47ae50f94b2b5d48aa",
       "version_major": 2,
       "version_minor": 0
      },
      "text/plain": [
       "  0%|          | 0/1 [00:00<?, ?it/s]"
      ]
     },
     "metadata": {},
     "output_type": "display_data"
    },
    {
     "name": "stdout",
     "output_type": "stream",
     "text": [
      "Successfully converted: EOBR_202451766101-1.docx\n",
      "\n",
      "Processing: EOBR_202451779501-1.docx\n"
     ]
    },
    {
     "data": {
      "application/vnd.jupyter.widget-view+json": {
       "model_id": "5dbe49bf03b2481489d449103e3dab05",
       "version_major": 2,
       "version_minor": 0
      },
      "text/plain": [
       "  0%|          | 0/1 [00:00<?, ?it/s]"
      ]
     },
     "metadata": {},
     "output_type": "display_data"
    },
    {
     "name": "stdout",
     "output_type": "stream",
     "text": [
      "Attempt 1 failed for EOBR_202451779501-1.docx. Error: (-2147418111, 'Call was rejected by callee.', None, None)\n",
      "Retrying in 2 seconds...\n"
     ]
    },
    {
     "data": {
      "application/vnd.jupyter.widget-view+json": {
       "model_id": "b4440641c36b49bfa32deb9fc2bbd36f",
       "version_major": 2,
       "version_minor": 0
      },
      "text/plain": [
       "  0%|          | 0/1 [00:00<?, ?it/s]"
      ]
     },
     "metadata": {},
     "output_type": "display_data"
    },
    {
     "name": "stdout",
     "output_type": "stream",
     "text": [
      "Successfully converted: EOBR_202451779501-1.docx\n",
      "\n",
      "Processing: EOBR_202451779501-2.docx\n"
     ]
    },
    {
     "data": {
      "application/vnd.jupyter.widget-view+json": {
       "model_id": "cb19e3546fc243fb9438ce9b33a2b8fc",
       "version_major": 2,
       "version_minor": 0
      },
      "text/plain": [
       "  0%|          | 0/1 [00:00<?, ?it/s]"
      ]
     },
     "metadata": {},
     "output_type": "display_data"
    },
    {
     "name": "stdout",
     "output_type": "stream",
     "text": [
      "Successfully converted: EOBR_202451779501-2.docx\n",
      "\n",
      "Processing: EOBR_202451794201-1.docx\n"
     ]
    },
    {
     "data": {
      "application/vnd.jupyter.widget-view+json": {
       "model_id": "362f2509650a46a48fccf5a02ba8d7a5",
       "version_major": 2,
       "version_minor": 0
      },
      "text/plain": [
       "  0%|          | 0/1 [00:00<?, ?it/s]"
      ]
     },
     "metadata": {},
     "output_type": "display_data"
    },
    {
     "name": "stdout",
     "output_type": "stream",
     "text": [
      "Successfully converted: EOBR_202451794201-1.docx\n",
      "\n",
      "Processing: EOBR_202461856801-1.docx\n"
     ]
    },
    {
     "data": {
      "application/vnd.jupyter.widget-view+json": {
       "model_id": "fd2132b6f60842e48a18149ae6fce876",
       "version_major": 2,
       "version_minor": 0
      },
      "text/plain": [
       "  0%|          | 0/1 [00:00<?, ?it/s]"
      ]
     },
     "metadata": {},
     "output_type": "display_data"
    },
    {
     "name": "stdout",
     "output_type": "stream",
     "text": [
      "Attempt 1 failed for EOBR_202461856801-1.docx. Error: (-2147418111, 'Call was rejected by callee.', None, None)\n",
      "Retrying in 2 seconds...\n"
     ]
    },
    {
     "data": {
      "application/vnd.jupyter.widget-view+json": {
       "model_id": "bcd37ee56833429db6f7fb8ee5586caf",
       "version_major": 2,
       "version_minor": 0
      },
      "text/plain": [
       "  0%|          | 0/1 [00:00<?, ?it/s]"
      ]
     },
     "metadata": {},
     "output_type": "display_data"
    },
    {
     "name": "stdout",
     "output_type": "stream",
     "text": [
      "Successfully converted: EOBR_202461856801-1.docx\n",
      "\n",
      "Processing: EOBR_202471884501-1.docx\n"
     ]
    },
    {
     "data": {
      "application/vnd.jupyter.widget-view+json": {
       "model_id": "4f6c6ddb1552413ca89239d58b964512",
       "version_major": 2,
       "version_minor": 0
      },
      "text/plain": [
       "  0%|          | 0/1 [00:00<?, ?it/s]"
      ]
     },
     "metadata": {},
     "output_type": "display_data"
    },
    {
     "name": "stdout",
     "output_type": "stream",
     "text": [
      "Attempt 1 failed for EOBR_202471884501-1.docx. Error: (-2147418111, 'Call was rejected by callee.', None, None)\n",
      "Retrying in 2 seconds...\n"
     ]
    },
    {
     "data": {
      "application/vnd.jupyter.widget-view+json": {
       "model_id": "1a35cd8532e242d4917b1a0428a7f042",
       "version_major": 2,
       "version_minor": 0
      },
      "text/plain": [
       "  0%|          | 0/1 [00:00<?, ?it/s]"
      ]
     },
     "metadata": {},
     "output_type": "display_data"
    },
    {
     "name": "stdout",
     "output_type": "stream",
     "text": [
      "Successfully converted: EOBR_202471884501-1.docx\n",
      "\n",
      "Processing: EOBR_202471918901-1.docx\n"
     ]
    },
    {
     "data": {
      "application/vnd.jupyter.widget-view+json": {
       "model_id": "b13426ea5f114ea390fd3f8b01028677",
       "version_major": 2,
       "version_minor": 0
      },
      "text/plain": [
       "  0%|          | 0/1 [00:00<?, ?it/s]"
      ]
     },
     "metadata": {},
     "output_type": "display_data"
    },
    {
     "name": "stdout",
     "output_type": "stream",
     "text": [
      "Attempt 1 failed for EOBR_202471918901-1.docx. Error: (-2147418111, 'Call was rejected by callee.', None, None)\n",
      "Retrying in 2 seconds...\n"
     ]
    },
    {
     "data": {
      "application/vnd.jupyter.widget-view+json": {
       "model_id": "aa6aca184b8b4e52adc79a6466143181",
       "version_major": 2,
       "version_minor": 0
      },
      "text/plain": [
       "  0%|          | 0/1 [00:00<?, ?it/s]"
      ]
     },
     "metadata": {},
     "output_type": "display_data"
    },
    {
     "name": "stdout",
     "output_type": "stream",
     "text": [
      "Successfully converted: EOBR_202471918901-1.docx\n",
      "\n",
      "Processing: EOBR_202481984501-1.docx\n"
     ]
    },
    {
     "data": {
      "application/vnd.jupyter.widget-view+json": {
       "model_id": "0001777ba8e14783a9299820db46647b",
       "version_major": 2,
       "version_minor": 0
      },
      "text/plain": [
       "  0%|          | 0/1 [00:00<?, ?it/s]"
      ]
     },
     "metadata": {},
     "output_type": "display_data"
    },
    {
     "name": "stdout",
     "output_type": "stream",
     "text": [
      "Successfully converted: EOBR_202481984501-1.docx\n",
      "\n",
      "Processing: EOBR_202491995101-1.docx\n"
     ]
    },
    {
     "data": {
      "application/vnd.jupyter.widget-view+json": {
       "model_id": "9dd9f88048bb4c20b5d15e81c28e2171",
       "version_major": 2,
       "version_minor": 0
      },
      "text/plain": [
       "  0%|          | 0/1 [00:00<?, ?it/s]"
      ]
     },
     "metadata": {},
     "output_type": "display_data"
    },
    {
     "name": "stdout",
     "output_type": "stream",
     "text": [
      "Successfully converted: EOBR_202491995101-1.docx\n",
      "\n",
      "Processing: EOBR_202491997701-1.docx\n"
     ]
    },
    {
     "data": {
      "application/vnd.jupyter.widget-view+json": {
       "model_id": "079f3e4ae02846c6b4e9d4395ef190d2",
       "version_major": 2,
       "version_minor": 0
      },
      "text/plain": [
       "  0%|          | 0/1 [00:00<?, ?it/s]"
      ]
     },
     "metadata": {},
     "output_type": "display_data"
    },
    {
     "name": "stdout",
     "output_type": "stream",
     "text": [
      "Successfully converted: EOBR_202491997701-1.docx\n",
      "\n",
      "Processing: EOBR_202492036201-1.docx\n"
     ]
    },
    {
     "data": {
      "application/vnd.jupyter.widget-view+json": {
       "model_id": "5b1d9d9cd8b145d493c0c9eeb4d20428",
       "version_major": 2,
       "version_minor": 0
      },
      "text/plain": [
       "  0%|          | 0/1 [00:00<?, ?it/s]"
      ]
     },
     "metadata": {},
     "output_type": "display_data"
    },
    {
     "name": "stdout",
     "output_type": "stream",
     "text": [
      "Successfully converted: EOBR_202492036201-1.docx\n",
      "\n",
      "Processing: EOBR_202492041501-1.docx\n"
     ]
    },
    {
     "data": {
      "application/vnd.jupyter.widget-view+json": {
       "model_id": "dbc970c70e0a47df80542897e34dbfe2",
       "version_major": 2,
       "version_minor": 0
      },
      "text/plain": [
       "  0%|          | 0/1 [00:00<?, ?it/s]"
      ]
     },
     "metadata": {},
     "output_type": "display_data"
    },
    {
     "name": "stdout",
     "output_type": "stream",
     "text": [
      "Successfully converted: EOBR_202492041501-1.docx\n",
      "\n",
      "Processing: EOBR_2025122525-1.docx\n"
     ]
    },
    {
     "data": {
      "application/vnd.jupyter.widget-view+json": {
       "model_id": "8ca1a5c041b64f14ac56e10630c39fef",
       "version_major": 2,
       "version_minor": 0
      },
      "text/plain": [
       "  0%|          | 0/1 [00:00<?, ?it/s]"
      ]
     },
     "metadata": {},
     "output_type": "display_data"
    },
    {
     "name": "stdout",
     "output_type": "stream",
     "text": [
      "Successfully converted: EOBR_2025122525-1.docx\n",
      "\n",
      "Processing: EOBR_202512264701-1.docx\n"
     ]
    },
    {
     "data": {
      "application/vnd.jupyter.widget-view+json": {
       "model_id": "e6dc972a7aba440e9ee75790b352c32d",
       "version_major": 2,
       "version_minor": 0
      },
      "text/plain": [
       "  0%|          | 0/1 [00:00<?, ?it/s]"
      ]
     },
     "metadata": {},
     "output_type": "display_data"
    },
    {
     "name": "stdout",
     "output_type": "stream",
     "text": [
      "Successfully converted: EOBR_202512264701-1.docx\n",
      "\n",
      "Processing: EOBR_202512265001-1.docx\n"
     ]
    },
    {
     "data": {
      "application/vnd.jupyter.widget-view+json": {
       "model_id": "8ea90d76244443e2a1c88c5076210ee5",
       "version_major": 2,
       "version_minor": 0
      },
      "text/plain": [
       "  0%|          | 0/1 [00:00<?, ?it/s]"
      ]
     },
     "metadata": {},
     "output_type": "display_data"
    },
    {
     "name": "stdout",
     "output_type": "stream",
     "text": [
      "Successfully converted: EOBR_202512265001-1.docx\n",
      "\n",
      "Processing: EOBR_2025122665-1.docx\n"
     ]
    },
    {
     "data": {
      "application/vnd.jupyter.widget-view+json": {
       "model_id": "0915ea9ae3f44bfdb3f04743f37b8749",
       "version_major": 2,
       "version_minor": 0
      },
      "text/plain": [
       "  0%|          | 0/1 [00:00<?, ?it/s]"
      ]
     },
     "metadata": {},
     "output_type": "display_data"
    },
    {
     "name": "stdout",
     "output_type": "stream",
     "text": [
      "Successfully converted: EOBR_2025122665-1.docx\n",
      "\n",
      "Processing: EOBR_202512267701-1.docx\n"
     ]
    },
    {
     "data": {
      "application/vnd.jupyter.widget-view+json": {
       "model_id": "6bad0979b3334db99ea5cf687496d3b7",
       "version_major": 2,
       "version_minor": 0
      },
      "text/plain": [
       "  0%|          | 0/1 [00:00<?, ?it/s]"
      ]
     },
     "metadata": {},
     "output_type": "display_data"
    },
    {
     "name": "stdout",
     "output_type": "stream",
     "text": [
      "Attempt 1 failed for EOBR_202512267701-1.docx. Error: (-2147418111, 'Call was rejected by callee.', None, None)\n",
      "Retrying in 2 seconds...\n"
     ]
    },
    {
     "data": {
      "application/vnd.jupyter.widget-view+json": {
       "model_id": "78cee1340a8d482a98fb7a187bc2f747",
       "version_major": 2,
       "version_minor": 0
      },
      "text/plain": [
       "  0%|          | 0/1 [00:00<?, ?it/s]"
      ]
     },
     "metadata": {},
     "output_type": "display_data"
    },
    {
     "name": "stdout",
     "output_type": "stream",
     "text": [
      "Successfully converted: EOBR_202512267701-1.docx\n",
      "\n",
      "Processing: EOBR_202512281601-4.docx\n"
     ]
    },
    {
     "data": {
      "application/vnd.jupyter.widget-view+json": {
       "model_id": "0511ac5a7eb34debb0a0b749acba56f7",
       "version_major": 2,
       "version_minor": 0
      },
      "text/plain": [
       "  0%|          | 0/1 [00:00<?, ?it/s]"
      ]
     },
     "metadata": {},
     "output_type": "display_data"
    },
    {
     "name": "stdout",
     "output_type": "stream",
     "text": [
      "Successfully converted: EOBR_202512281601-4.docx\n",
      "\n",
      "Processing: EOBR_2025122819-2.docx\n"
     ]
    },
    {
     "data": {
      "application/vnd.jupyter.widget-view+json": {
       "model_id": "db4bd56d02184f97a632f8bbc0fbbec8",
       "version_major": 2,
       "version_minor": 0
      },
      "text/plain": [
       "  0%|          | 0/1 [00:00<?, ?it/s]"
      ]
     },
     "metadata": {},
     "output_type": "display_data"
    },
    {
     "name": "stdout",
     "output_type": "stream",
     "text": [
      "Successfully converted: EOBR_2025122819-2.docx\n",
      "\n",
      "Processing: EOBR_202512292401-1.docx\n"
     ]
    },
    {
     "data": {
      "application/vnd.jupyter.widget-view+json": {
       "model_id": "287b2ba7b056486c8980bf8604b76fba",
       "version_major": 2,
       "version_minor": 0
      },
      "text/plain": [
       "  0%|          | 0/1 [00:00<?, ?it/s]"
      ]
     },
     "metadata": {},
     "output_type": "display_data"
    },
    {
     "name": "stdout",
     "output_type": "stream",
     "text": [
      "Successfully converted: EOBR_202512292401-1.docx\n",
      "\n",
      "Processing: EOBR_202512312301-1.docx\n"
     ]
    },
    {
     "data": {
      "application/vnd.jupyter.widget-view+json": {
       "model_id": "a0d977d3754c4a048bf5b2e44725098b",
       "version_major": 2,
       "version_minor": 0
      },
      "text/plain": [
       "  0%|          | 0/1 [00:00<?, ?it/s]"
      ]
     },
     "metadata": {},
     "output_type": "display_data"
    },
    {
     "name": "stdout",
     "output_type": "stream",
     "text": [
      "Successfully converted: EOBR_202512312301-1.docx\n",
      "\n",
      "Processing: EOBR_202522317501-1.docx\n"
     ]
    },
    {
     "data": {
      "application/vnd.jupyter.widget-view+json": {
       "model_id": "fff50bcd3d264ef89d56b7c625e64c50",
       "version_major": 2,
       "version_minor": 0
      },
      "text/plain": [
       "  0%|          | 0/1 [00:00<?, ?it/s]"
      ]
     },
     "metadata": {},
     "output_type": "display_data"
    },
    {
     "name": "stdout",
     "output_type": "stream",
     "text": [
      "Successfully converted: EOBR_202522317501-1.docx\n",
      "\n",
      "Processing: EOBR_202522330001-1.docx\n"
     ]
    },
    {
     "data": {
      "application/vnd.jupyter.widget-view+json": {
       "model_id": "f24085cd42084d59b1985bc4ed313c77",
       "version_major": 2,
       "version_minor": 0
      },
      "text/plain": [
       "  0%|          | 0/1 [00:00<?, ?it/s]"
      ]
     },
     "metadata": {},
     "output_type": "display_data"
    },
    {
     "name": "stdout",
     "output_type": "stream",
     "text": [
      "Successfully converted: EOBR_202522330001-1.docx\n",
      "\n",
      "Processing: EOBR_2025223368-1.docx\n"
     ]
    },
    {
     "data": {
      "application/vnd.jupyter.widget-view+json": {
       "model_id": "7533e59fddb9425cb7235f8465c9f041",
       "version_major": 2,
       "version_minor": 0
      },
      "text/plain": [
       "  0%|          | 0/1 [00:00<?, ?it/s]"
      ]
     },
     "metadata": {},
     "output_type": "display_data"
    },
    {
     "name": "stdout",
     "output_type": "stream",
     "text": [
      "Successfully converted: EOBR_2025223368-1.docx\n",
      "\n",
      "Processing: EOBR_2025223388-1.docx\n"
     ]
    },
    {
     "data": {
      "application/vnd.jupyter.widget-view+json": {
       "model_id": "827e86689a0944378f8a5bf12f088139",
       "version_major": 2,
       "version_minor": 0
      },
      "text/plain": [
       "  0%|          | 0/1 [00:00<?, ?it/s]"
      ]
     },
     "metadata": {},
     "output_type": "display_data"
    },
    {
     "name": "stdout",
     "output_type": "stream",
     "text": [
      "Successfully converted: EOBR_2025223388-1.docx\n",
      "\n",
      "Processing: EOBR_2025223388-2.docx\n"
     ]
    },
    {
     "data": {
      "application/vnd.jupyter.widget-view+json": {
       "model_id": "787d207f2bb44a0cb54362ee741a74be",
       "version_major": 2,
       "version_minor": 0
      },
      "text/plain": [
       "  0%|          | 0/1 [00:00<?, ?it/s]"
      ]
     },
     "metadata": {},
     "output_type": "display_data"
    },
    {
     "name": "stdout",
     "output_type": "stream",
     "text": [
      "Attempt 1 failed for EOBR_2025223388-2.docx. Error: (-2147418111, 'Call was rejected by callee.', None, None)\n",
      "Retrying in 2 seconds...\n"
     ]
    },
    {
     "data": {
      "application/vnd.jupyter.widget-view+json": {
       "model_id": "7818522f588e4f8cb0329d68b3241d2a",
       "version_major": 2,
       "version_minor": 0
      },
      "text/plain": [
       "  0%|          | 0/1 [00:00<?, ?it/s]"
      ]
     },
     "metadata": {},
     "output_type": "display_data"
    },
    {
     "name": "stdout",
     "output_type": "stream",
     "text": [
      "Successfully converted: EOBR_2025223388-2.docx\n",
      "\n",
      "Processing: EOBR_2025223462-1.docx\n"
     ]
    },
    {
     "data": {
      "application/vnd.jupyter.widget-view+json": {
       "model_id": "bca99bb37ba44909b3256bc84fc726d7",
       "version_major": 2,
       "version_minor": 0
      },
      "text/plain": [
       "  0%|          | 0/1 [00:00<?, ?it/s]"
      ]
     },
     "metadata": {},
     "output_type": "display_data"
    },
    {
     "name": "stdout",
     "output_type": "stream",
     "text": [
      "Successfully converted: EOBR_2025223462-1.docx\n",
      "\n",
      "Processing: EOBR_2025223634-1.docx\n"
     ]
    },
    {
     "data": {
      "application/vnd.jupyter.widget-view+json": {
       "model_id": "707e04f6b6cf4e548b2e16cd6e85bb2e",
       "version_major": 2,
       "version_minor": 0
      },
      "text/plain": [
       "  0%|          | 0/1 [00:00<?, ?it/s]"
      ]
     },
     "metadata": {},
     "output_type": "display_data"
    },
    {
     "name": "stdout",
     "output_type": "stream",
     "text": [
      "Successfully converted: EOBR_2025223634-1.docx\n",
      "\n",
      "Processing: EOBR_2025223642-1.docx\n"
     ]
    },
    {
     "data": {
      "application/vnd.jupyter.widget-view+json": {
       "model_id": "b155eafa85864098b0478afb4a934d3e",
       "version_major": 2,
       "version_minor": 0
      },
      "text/plain": [
       "  0%|          | 0/1 [00:00<?, ?it/s]"
      ]
     },
     "metadata": {},
     "output_type": "display_data"
    },
    {
     "name": "stdout",
     "output_type": "stream",
     "text": [
      "Successfully converted: EOBR_2025223642-1.docx\n",
      "\n",
      "Processing: EOBR_2025223663-1.docx\n"
     ]
    },
    {
     "data": {
      "application/vnd.jupyter.widget-view+json": {
       "model_id": "63665cf48d8a45a9a5e1337e96c0f5e1",
       "version_major": 2,
       "version_minor": 0
      },
      "text/plain": [
       "  0%|          | 0/1 [00:00<?, ?it/s]"
      ]
     },
     "metadata": {},
     "output_type": "display_data"
    },
    {
     "name": "stdout",
     "output_type": "stream",
     "text": [
      "Successfully converted: EOBR_2025223663-1.docx\n",
      "\n",
      "Processing: EOBR_2025223669-1.docx\n"
     ]
    },
    {
     "data": {
      "application/vnd.jupyter.widget-view+json": {
       "model_id": "9398258e14c141e1b8eff9477db6311c",
       "version_major": 2,
       "version_minor": 0
      },
      "text/plain": [
       "  0%|          | 0/1 [00:00<?, ?it/s]"
      ]
     },
     "metadata": {},
     "output_type": "display_data"
    },
    {
     "name": "stdout",
     "output_type": "stream",
     "text": [
      "Successfully converted: EOBR_2025223669-1.docx\n",
      "\n",
      "Processing: EOBR_2025323984-1.docx\n"
     ]
    },
    {
     "data": {
      "application/vnd.jupyter.widget-view+json": {
       "model_id": "847023e5b11b4eb3a82bd0f30c0866a3",
       "version_major": 2,
       "version_minor": 0
      },
      "text/plain": [
       "  0%|          | 0/1 [00:00<?, ?it/s]"
      ]
     },
     "metadata": {},
     "output_type": "display_data"
    },
    {
     "name": "stdout",
     "output_type": "stream",
     "text": [
      "Attempt 1 failed for EOBR_2025323984-1.docx. Error: (-2147418111, 'Call was rejected by callee.', None, None)\n",
      "Retrying in 2 seconds...\n"
     ]
    },
    {
     "data": {
      "application/vnd.jupyter.widget-view+json": {
       "model_id": "a5e942cf0987420193f83fd3d3d2076c",
       "version_major": 2,
       "version_minor": 0
      },
      "text/plain": [
       "  0%|          | 0/1 [00:00<?, ?it/s]"
      ]
     },
     "metadata": {},
     "output_type": "display_data"
    },
    {
     "name": "stdout",
     "output_type": "stream",
     "text": [
      "Successfully converted: EOBR_2025323984-1.docx\n",
      "\n",
      "Processing: EOBR_2025323985-1.docx\n"
     ]
    },
    {
     "data": {
      "application/vnd.jupyter.widget-view+json": {
       "model_id": "72ead596fa1e4532a1de6c7b1e7fb5e7",
       "version_major": 2,
       "version_minor": 0
      },
      "text/plain": [
       "  0%|          | 0/1 [00:00<?, ?it/s]"
      ]
     },
     "metadata": {},
     "output_type": "display_data"
    },
    {
     "name": "stdout",
     "output_type": "stream",
     "text": [
      "Successfully converted: EOBR_2025323985-1.docx\n",
      "\n",
      "Processing: EOBR_2025424558-1.docx\n"
     ]
    },
    {
     "data": {
      "application/vnd.jupyter.widget-view+json": {
       "model_id": "fbfeabb6ad5c4a97b3bc3ef56336e3ff",
       "version_major": 2,
       "version_minor": 0
      },
      "text/plain": [
       "  0%|          | 0/1 [00:00<?, ?it/s]"
      ]
     },
     "metadata": {},
     "output_type": "display_data"
    },
    {
     "name": "stdout",
     "output_type": "stream",
     "text": [
      "Successfully converted: EOBR_2025424558-1.docx\n",
      "\n",
      "Processing: EOBR_2025424558-2.docx\n"
     ]
    },
    {
     "data": {
      "application/vnd.jupyter.widget-view+json": {
       "model_id": "e940f7cfb6524a7d96c3117974f2b47a",
       "version_major": 2,
       "version_minor": 0
      },
      "text/plain": [
       "  0%|          | 0/1 [00:00<?, ?it/s]"
      ]
     },
     "metadata": {},
     "output_type": "display_data"
    },
    {
     "name": "stdout",
     "output_type": "stream",
     "text": [
      "Successfully converted: EOBR_2025424558-2.docx\n",
      "\n",
      "Processing: EOBR_ORD-202522000000-ADAMSBRITT-1.docx\n"
     ]
    },
    {
     "data": {
      "application/vnd.jupyter.widget-view+json": {
       "model_id": "550e73a9922948b6976496a5fd918384",
       "version_major": 2,
       "version_minor": 0
      },
      "text/plain": [
       "  0%|          | 0/1 [00:00<?, ?it/s]"
      ]
     },
     "metadata": {},
     "output_type": "display_data"
    },
    {
     "name": "stdout",
     "output_type": "stream",
     "text": [
      "Successfully converted: EOBR_ORD-202522000000-ADAMSBRITT-1.docx\n",
      "\n",
      "Processing: EOBR_ORD-202522000000-BANUELOSVE-1.docx\n"
     ]
    },
    {
     "data": {
      "application/vnd.jupyter.widget-view+json": {
       "model_id": "82f190b2b89646dfbaee3b4eeacf0ffe",
       "version_major": 2,
       "version_minor": 0
      },
      "text/plain": [
       "  0%|          | 0/1 [00:00<?, ?it/s]"
      ]
     },
     "metadata": {},
     "output_type": "display_data"
    },
    {
     "name": "stdout",
     "output_type": "stream",
     "text": [
      "Attempt 1 failed for EOBR_ORD-202522000000-BANUELOSVE-1.docx. Error: (-2147418111, 'Call was rejected by callee.', None, None)\n",
      "Retrying in 2 seconds...\n"
     ]
    },
    {
     "data": {
      "application/vnd.jupyter.widget-view+json": {
       "model_id": "102f3ebd7f8a4c91bdf856d80c3e0854",
       "version_major": 2,
       "version_minor": 0
      },
      "text/plain": [
       "  0%|          | 0/1 [00:00<?, ?it/s]"
      ]
     },
     "metadata": {},
     "output_type": "display_data"
    },
    {
     "name": "stdout",
     "output_type": "stream",
     "text": [
      "Successfully converted: EOBR_ORD-202522000000-BANUELOSVE-1.docx\n",
      "\n",
      "Processing: EOBR_ORD-202522000000-BERRYHILLA-1.docx\n"
     ]
    },
    {
     "data": {
      "application/vnd.jupyter.widget-view+json": {
       "model_id": "8e7b44241ab14b4a8ae76c4317b871d4",
       "version_major": 2,
       "version_minor": 0
      },
      "text/plain": [
       "  0%|          | 0/1 [00:00<?, ?it/s]"
      ]
     },
     "metadata": {},
     "output_type": "display_data"
    },
    {
     "name": "stdout",
     "output_type": "stream",
     "text": [
      "Attempt 1 failed for EOBR_ORD-202522000000-BERRYHILLA-1.docx. Error: (-2147418111, 'Call was rejected by callee.', None, None)\n",
      "Retrying in 2 seconds...\n"
     ]
    },
    {
     "data": {
      "application/vnd.jupyter.widget-view+json": {
       "model_id": "ba1110fe038844c783a3777504161c40",
       "version_major": 2,
       "version_minor": 0
      },
      "text/plain": [
       "  0%|          | 0/1 [00:00<?, ?it/s]"
      ]
     },
     "metadata": {},
     "output_type": "display_data"
    },
    {
     "name": "stdout",
     "output_type": "stream",
     "text": [
      "Successfully converted: EOBR_ORD-202522000000-BERRYHILLA-1.docx\n",
      "\n",
      "Processing: EOBR_ORD-202522000000-BURTONJOHN-1.docx\n"
     ]
    },
    {
     "data": {
      "application/vnd.jupyter.widget-view+json": {
       "model_id": "09c573b474074c708573457b62a48a05",
       "version_major": 2,
       "version_minor": 0
      },
      "text/plain": [
       "  0%|          | 0/1 [00:00<?, ?it/s]"
      ]
     },
     "metadata": {},
     "output_type": "display_data"
    },
    {
     "name": "stdout",
     "output_type": "stream",
     "text": [
      "Successfully converted: EOBR_ORD-202522000000-BURTONJOHN-1.docx\n",
      "\n",
      "Processing: EOBR_ORD-202522000000-CHURCHILLF-1.docx\n"
     ]
    },
    {
     "data": {
      "application/vnd.jupyter.widget-view+json": {
       "model_id": "1cd8b461f92a48be9e72360cf616d928",
       "version_major": 2,
       "version_minor": 0
      },
      "text/plain": [
       "  0%|          | 0/1 [00:00<?, ?it/s]"
      ]
     },
     "metadata": {},
     "output_type": "display_data"
    },
    {
     "name": "stdout",
     "output_type": "stream",
     "text": [
      "Successfully converted: EOBR_ORD-202522000000-CHURCHILLF-1.docx\n",
      "\n",
      "Processing: EOBR_ORD-202522000000-DEPASSABDU-1.docx\n"
     ]
    },
    {
     "data": {
      "application/vnd.jupyter.widget-view+json": {
       "model_id": "ec0fec4c22994d6ab1547689d0e8a5db",
       "version_major": 2,
       "version_minor": 0
      },
      "text/plain": [
       "  0%|          | 0/1 [00:00<?, ?it/s]"
      ]
     },
     "metadata": {},
     "output_type": "display_data"
    },
    {
     "name": "stdout",
     "output_type": "stream",
     "text": [
      "Successfully converted: EOBR_ORD-202522000000-DEPASSABDU-1.docx\n",
      "\n",
      "Processing: EOBR_ORD-202522000000-EDWARDSDUN-1.docx\n"
     ]
    },
    {
     "data": {
      "application/vnd.jupyter.widget-view+json": {
       "model_id": "5f423c4c5b6244de8c3c968231b38cc1",
       "version_major": 2,
       "version_minor": 0
      },
      "text/plain": [
       "  0%|          | 0/1 [00:00<?, ?it/s]"
      ]
     },
     "metadata": {},
     "output_type": "display_data"
    },
    {
     "name": "stdout",
     "output_type": "stream",
     "text": [
      "Successfully converted: EOBR_ORD-202522000000-EDWARDSDUN-1.docx\n",
      "\n",
      "Processing: EOBR_ORD-202522000000-EVANSLAVOO-1.docx\n"
     ]
    },
    {
     "data": {
      "application/vnd.jupyter.widget-view+json": {
       "model_id": "a5908d9b48194f32bf17bf799225ff87",
       "version_major": 2,
       "version_minor": 0
      },
      "text/plain": [
       "  0%|          | 0/1 [00:00<?, ?it/s]"
      ]
     },
     "metadata": {},
     "output_type": "display_data"
    },
    {
     "name": "stdout",
     "output_type": "stream",
     "text": [
      "Successfully converted: EOBR_ORD-202522000000-EVANSLAVOO-1.docx\n",
      "\n",
      "Processing: EOBR_ORD-202522000000-GRATTONJOH-1.docx\n"
     ]
    },
    {
     "data": {
      "application/vnd.jupyter.widget-view+json": {
       "model_id": "729e1b799bae44c8ad9d94ba8a3d8865",
       "version_major": 2,
       "version_minor": 0
      },
      "text/plain": [
       "  0%|          | 0/1 [00:00<?, ?it/s]"
      ]
     },
     "metadata": {},
     "output_type": "display_data"
    },
    {
     "name": "stdout",
     "output_type": "stream",
     "text": [
      "Attempt 1 failed for EOBR_ORD-202522000000-GRATTONJOH-1.docx. Error: (-2147418111, 'Call was rejected by callee.', None, None)\n",
      "Retrying in 2 seconds...\n"
     ]
    },
    {
     "data": {
      "application/vnd.jupyter.widget-view+json": {
       "model_id": "00c3dd73809946d3945e30d96468c99e",
       "version_major": 2,
       "version_minor": 0
      },
      "text/plain": [
       "  0%|          | 0/1 [00:00<?, ?it/s]"
      ]
     },
     "metadata": {},
     "output_type": "display_data"
    },
    {
     "name": "stdout",
     "output_type": "stream",
     "text": [
      "Successfully converted: EOBR_ORD-202522000000-GRATTONJOH-1.docx\n",
      "\n",
      "Processing: EOBR_ORD-202522000000-GUERINOTRE-1.docx\n"
     ]
    },
    {
     "data": {
      "application/vnd.jupyter.widget-view+json": {
       "model_id": "3433cfa434e840f68b384f27e56767a8",
       "version_major": 2,
       "version_minor": 0
      },
      "text/plain": [
       "  0%|          | 0/1 [00:00<?, ?it/s]"
      ]
     },
     "metadata": {},
     "output_type": "display_data"
    },
    {
     "name": "stdout",
     "output_type": "stream",
     "text": [
      "Successfully converted: EOBR_ORD-202522000000-GUERINOTRE-1.docx\n",
      "\n",
      "Processing: EOBR_ORD-202522000000-JONESJAMIS-1.docx\n"
     ]
    },
    {
     "data": {
      "application/vnd.jupyter.widget-view+json": {
       "model_id": "2fcf488df6ff4a85b018551dc668407e",
       "version_major": 2,
       "version_minor": 0
      },
      "text/plain": [
       "  0%|          | 0/1 [00:00<?, ?it/s]"
      ]
     },
     "metadata": {},
     "output_type": "display_data"
    },
    {
     "name": "stdout",
     "output_type": "stream",
     "text": [
      "Successfully converted: EOBR_ORD-202522000000-JONESJAMIS-1.docx\n",
      "\n",
      "Processing: EOBR_ORD-202522000000-MCLENDONDA-1.docx\n"
     ]
    },
    {
     "data": {
      "application/vnd.jupyter.widget-view+json": {
       "model_id": "647a43a5a27f45dcb10eee8ce6d393d0",
       "version_major": 2,
       "version_minor": 0
      },
      "text/plain": [
       "  0%|          | 0/1 [00:00<?, ?it/s]"
      ]
     },
     "metadata": {},
     "output_type": "display_data"
    },
    {
     "name": "stdout",
     "output_type": "stream",
     "text": [
      "Successfully converted: EOBR_ORD-202522000000-MCLENDONDA-1.docx\n",
      "\n",
      "Processing: EOBR_ORD-202522000000-MERWINEKRI-1.docx\n"
     ]
    },
    {
     "data": {
      "application/vnd.jupyter.widget-view+json": {
       "model_id": "4e9838511973451d87749af27076a549",
       "version_major": 2,
       "version_minor": 0
      },
      "text/plain": [
       "  0%|          | 0/1 [00:00<?, ?it/s]"
      ]
     },
     "metadata": {},
     "output_type": "display_data"
    },
    {
     "name": "stdout",
     "output_type": "stream",
     "text": [
      "Successfully converted: EOBR_ORD-202522000000-MERWINEKRI-1.docx\n",
      "\n",
      "Processing: EOBR_ORD-202522000000-OAKLEAFTIF-1.docx\n"
     ]
    },
    {
     "data": {
      "application/vnd.jupyter.widget-view+json": {
       "model_id": "f7e827d4efed4c38ab1023bb6ae9a64f",
       "version_major": 2,
       "version_minor": 0
      },
      "text/plain": [
       "  0%|          | 0/1 [00:00<?, ?it/s]"
      ]
     },
     "metadata": {},
     "output_type": "display_data"
    },
    {
     "name": "stdout",
     "output_type": "stream",
     "text": [
      "Successfully converted: EOBR_ORD-202522000000-OAKLEAFTIF-1.docx\n",
      "\n",
      "Processing: EOBR_ORD-202522000000-OAKLEAFTIF-2.docx\n"
     ]
    },
    {
     "data": {
      "application/vnd.jupyter.widget-view+json": {
       "model_id": "d9731b3b8afa419484180287f93038ae",
       "version_major": 2,
       "version_minor": 0
      },
      "text/plain": [
       "  0%|          | 0/1 [00:00<?, ?it/s]"
      ]
     },
     "metadata": {},
     "output_type": "display_data"
    },
    {
     "name": "stdout",
     "output_type": "stream",
     "text": [
      "Successfully converted: EOBR_ORD-202522000000-OAKLEAFTIF-2.docx\n",
      "\n",
      "Processing: EOBR_ORD-202522000000-PEDIGOJUST-1.docx\n"
     ]
    },
    {
     "data": {
      "application/vnd.jupyter.widget-view+json": {
       "model_id": "82e82fc622fe4bb88b1c965ff5028a00",
       "version_major": 2,
       "version_minor": 0
      },
      "text/plain": [
       "  0%|          | 0/1 [00:00<?, ?it/s]"
      ]
     },
     "metadata": {},
     "output_type": "display_data"
    },
    {
     "name": "stdout",
     "output_type": "stream",
     "text": [
      "Attempt 1 failed for EOBR_ORD-202522000000-PEDIGOJUST-1.docx. Error: (-2147418111, 'Call was rejected by callee.', None, None)\n",
      "Retrying in 2 seconds...\n"
     ]
    },
    {
     "data": {
      "application/vnd.jupyter.widget-view+json": {
       "model_id": "88a223185fdb4965b93d6c2377b0c322",
       "version_major": 2,
       "version_minor": 0
      },
      "text/plain": [
       "  0%|          | 0/1 [00:00<?, ?it/s]"
      ]
     },
     "metadata": {},
     "output_type": "display_data"
    },
    {
     "name": "stdout",
     "output_type": "stream",
     "text": [
      "Successfully converted: EOBR_ORD-202522000000-PEDIGOJUST-1.docx\n",
      "\n",
      "Processing: EOBR_ORD-202522000000-ROJODIEGO-1.docx\n"
     ]
    },
    {
     "data": {
      "application/vnd.jupyter.widget-view+json": {
       "model_id": "961f082a4e3c4322a72afa4d8a05682f",
       "version_major": 2,
       "version_minor": 0
      },
      "text/plain": [
       "  0%|          | 0/1 [00:00<?, ?it/s]"
      ]
     },
     "metadata": {},
     "output_type": "display_data"
    },
    {
     "name": "stdout",
     "output_type": "stream",
     "text": [
      "Successfully converted: EOBR_ORD-202522000000-ROJODIEGO-1.docx\n",
      "\n",
      "Processing: EOBR_ORD-202532000000-ALBAKRISTE-1.docx\n"
     ]
    },
    {
     "data": {
      "application/vnd.jupyter.widget-view+json": {
       "model_id": "7ef4b6d012e24342a58487cf1d5e8dd8",
       "version_major": 2,
       "version_minor": 0
      },
      "text/plain": [
       "  0%|          | 0/1 [00:00<?, ?it/s]"
      ]
     },
     "metadata": {},
     "output_type": "display_data"
    },
    {
     "name": "stdout",
     "output_type": "stream",
     "text": [
      "Successfully converted: EOBR_ORD-202532000000-ALBAKRISTE-1.docx\n",
      "\n",
      "Processing: EOBR_ORD-202532000000-COOKPHILLI-1.docx\n"
     ]
    },
    {
     "data": {
      "application/vnd.jupyter.widget-view+json": {
       "model_id": "644143d3a9af4cf29771e83ced614314",
       "version_major": 2,
       "version_minor": 0
      },
      "text/plain": [
       "  0%|          | 0/1 [00:00<?, ?it/s]"
      ]
     },
     "metadata": {},
     "output_type": "display_data"
    },
    {
     "name": "stdout",
     "output_type": "stream",
     "text": [
      "Successfully converted: EOBR_ORD-202532000000-COOKPHILLI-1.docx\n",
      "\n",
      "Processing: EOBR_ORD-202532000000-HAEMMELMAN-1.docx\n"
     ]
    },
    {
     "data": {
      "application/vnd.jupyter.widget-view+json": {
       "model_id": "2e50d8fb8fb74ad5b0daeb571badec5a",
       "version_major": 2,
       "version_minor": 0
      },
      "text/plain": [
       "  0%|          | 0/1 [00:00<?, ?it/s]"
      ]
     },
     "metadata": {},
     "output_type": "display_data"
    },
    {
     "name": "stdout",
     "output_type": "stream",
     "text": [
      "Attempt 1 failed for EOBR_ORD-202532000000-HAEMMELMAN-1.docx. Error: (-2147418111, 'Call was rejected by callee.', None, None)\n",
      "Retrying in 2 seconds...\n"
     ]
    },
    {
     "data": {
      "application/vnd.jupyter.widget-view+json": {
       "model_id": "2ecd6202151249329d1c14dc15d33a6b",
       "version_major": 2,
       "version_minor": 0
      },
      "text/plain": [
       "  0%|          | 0/1 [00:00<?, ?it/s]"
      ]
     },
     "metadata": {},
     "output_type": "display_data"
    },
    {
     "name": "stdout",
     "output_type": "stream",
     "text": [
      "Successfully converted: EOBR_ORD-202532000000-HAEMMELMAN-1.docx\n",
      "\n",
      "Processing: EOBR_ORD-202532000000-NEWTONCORN-1.docx\n"
     ]
    },
    {
     "data": {
      "application/vnd.jupyter.widget-view+json": {
       "model_id": "ca613805eafb40418dd8e988000c1584",
       "version_major": 2,
       "version_minor": 0
      },
      "text/plain": [
       "  0%|          | 0/1 [00:00<?, ?it/s]"
      ]
     },
     "metadata": {},
     "output_type": "display_data"
    },
    {
     "name": "stdout",
     "output_type": "stream",
     "text": [
      "Successfully converted: EOBR_ORD-202532000000-NEWTONCORN-1.docx\n",
      "\n",
      "Processing: EOBR_ORD-202532000000-PROUTYNICO-1.docx\n"
     ]
    },
    {
     "data": {
      "application/vnd.jupyter.widget-view+json": {
       "model_id": "4f1a598fdb4b446e88093bd3008751de",
       "version_major": 2,
       "version_minor": 0
      },
      "text/plain": [
       "  0%|          | 0/1 [00:00<?, ?it/s]"
      ]
     },
     "metadata": {},
     "output_type": "display_data"
    },
    {
     "name": "stdout",
     "output_type": "stream",
     "text": [
      "Successfully converted: EOBR_ORD-202532000000-PROUTYNICO-1.docx\n",
      "\n",
      "Processing: EOBR_ORD-202532000000-SPEROSANDR-1.docx\n"
     ]
    },
    {
     "data": {
      "application/vnd.jupyter.widget-view+json": {
       "model_id": "869d784bdae74e6abcad74470aa198d1",
       "version_major": 2,
       "version_minor": 0
      },
      "text/plain": [
       "  0%|          | 0/1 [00:00<?, ?it/s]"
      ]
     },
     "metadata": {},
     "output_type": "display_data"
    },
    {
     "name": "stdout",
     "output_type": "stream",
     "text": [
      "Successfully converted: EOBR_ORD-202532000000-SPEROSANDR-1.docx\n",
      "\n",
      "=== Conversion Summary ===\n",
      "Total files processed: 89\n",
      "Successfully converted: 89\n",
      "Failed conversions: 0\n",
      "\n",
      "Detailed log written to: C:\\Users\\ChristopherCato\\OneDrive - clarity-dx.com\\Documents\\Bill_Review_INTERNAL\\EOBR\\20250429_142750\\pdf\\conversion_log_20250502_105555.txt\n"
     ]
    }
   ],
   "source": [
    "import os\n",
    "from pathlib import Path\n",
    "from docx2pdf import convert\n",
    "import time\n",
    "from datetime import datetime\n",
    "\n",
    "# Constants\n",
    "DOCS_FOLDER = r\"C:\\Users\\ChristopherCato\\OneDrive - clarity-dx.com\\Documents\\Bill_Review_INTERNAL\\EOBR\\20250429_142750\\docs\"\n",
    "PDFS_FOLDER = r\"C:\\Users\\ChristopherCato\\OneDrive - clarity-dx.com\\Documents\\Bill_Review_INTERNAL\\EOBR\\20250429_142750\\pdf\"\n",
    "\n",
    "def find_missing_pdfs():\n",
    "    \"\"\"Find DOCX files that don't have corresponding PDFs.\"\"\"\n",
    "    # Get all DOCX files\n",
    "    docx_files = {f.stem: f for f in Path(DOCS_FOLDER).glob('*.docx')}\n",
    "    # Get all PDF files\n",
    "    pdf_files = {f.stem: f for f in Path(PDFS_FOLDER).glob('*.pdf')}\n",
    "    \n",
    "    # Find DOCX files without corresponding PDFs\n",
    "    missing_pdfs = {name: path for name, path in docx_files.items() \n",
    "                   if name not in pdf_files}\n",
    "    \n",
    "    return missing_pdfs\n",
    "\n",
    "def convert_with_retry(docx_path, pdf_path, max_retries=3, delay=2):\n",
    "    \"\"\"Attempt to convert DOCX to PDF with retries.\"\"\"\n",
    "    for attempt in range(max_retries):\n",
    "        try:\n",
    "            convert(docx_path, pdf_path)\n",
    "            return True\n",
    "        except Exception as e:\n",
    "            if attempt < max_retries - 1:\n",
    "                print(f\"Attempt {attempt + 1} failed for {docx_path.name}. Error: {str(e)}\")\n",
    "                print(f\"Retrying in {delay} seconds...\")\n",
    "                time.sleep(delay)\n",
    "            else:\n",
    "                print(f\"All {max_retries} attempts failed for {docx_path.name}\")\n",
    "                print(f\"Final error: {str(e)}\")\n",
    "                return False\n",
    "\n",
    "def process_missing_pdfs():\n",
    "    \"\"\"Process only the DOCX files that don't have corresponding PDFs.\"\"\"\n",
    "    # Create log file\n",
    "    log_file = Path(PDFS_FOLDER) / f\"conversion_log_{datetime.now().strftime('%Y%m%d_%H%M%S')}.txt\"\n",
    "    \n",
    "    # Find missing PDFs\n",
    "    missing_pdfs = find_missing_pdfs()\n",
    "    \n",
    "    if not missing_pdfs:\n",
    "        print(\"No missing PDFs found. All DOCX files have corresponding PDFs.\")\n",
    "        return\n",
    "    \n",
    "    print(f\"Found {len(missing_pdfs)} DOCX files without corresponding PDFs.\")\n",
    "    \n",
    "    # Process each missing PDF\n",
    "    successful = []\n",
    "    failed = []\n",
    "    \n",
    "    for name, docx_path in missing_pdfs.items():\n",
    "        pdf_path = Path(PDFS_FOLDER) / f\"{name}.pdf\"\n",
    "        print(f\"\\nProcessing: {docx_path.name}\")\n",
    "        \n",
    "        if convert_with_retry(docx_path, pdf_path):\n",
    "            successful.append(docx_path.name)\n",
    "            print(f\"Successfully converted: {docx_path.name}\")\n",
    "        else:\n",
    "            failed.append(docx_path.name)\n",
    "    \n",
    "    # Write results to log file\n",
    "    with open(log_file, 'w') as f:\n",
    "        f.write(f\"Conversion Log - {datetime.now().strftime('%Y-%m-%d %H:%M:%S')}\\n\")\n",
    "        f.write(f\"Total files to process: {len(missing_pdfs)}\\n\")\n",
    "        f.write(f\"Successfully converted: {len(successful)}\\n\")\n",
    "        f.write(f\"Failed conversions: {len(failed)}\\n\\n\")\n",
    "        \n",
    "        if successful:\n",
    "            f.write(\"\\nSuccessfully converted files:\\n\")\n",
    "            for file in successful:\n",
    "                f.write(f\"- {file}\\n\")\n",
    "        \n",
    "        if failed:\n",
    "            f.write(\"\\nFailed conversions:\\n\")\n",
    "            for file in failed:\n",
    "                f.write(f\"- {file}\\n\")\n",
    "    \n",
    "    # Print summary\n",
    "    print(\"\\n=== Conversion Summary ===\")\n",
    "    print(f\"Total files processed: {len(missing_pdfs)}\")\n",
    "    print(f\"Successfully converted: {len(successful)}\")\n",
    "    print(f\"Failed conversions: {len(failed)}\")\n",
    "    print(f\"\\nDetailed log written to: {log_file}\")\n",
    "\n",
    "if __name__ == \"__main__\":\n",
    "    print(\"Starting PDF conversion process...\")\n",
    "    process_missing_pdfs()"
   ]
  }
 ],
 "metadata": {
  "kernelspec": {
   "display_name": "Python 3",
   "language": "python",
   "name": "python3"
  },
  "language_info": {
   "codemirror_mode": {
    "name": "ipython",
    "version": 3
   },
   "file_extension": ".py",
   "mimetype": "text/x-python",
   "name": "python",
   "nbconvert_exporter": "python",
   "pygments_lexer": "ipython3",
   "version": "3.13.2"
  }
 },
 "nbformat": 4,
 "nbformat_minor": 2
}
